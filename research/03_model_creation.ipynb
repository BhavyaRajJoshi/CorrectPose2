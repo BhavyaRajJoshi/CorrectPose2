{
 "cells": [
  {
   "cell_type": "code",
   "execution_count": 66,
   "metadata": {},
   "outputs": [],
   "source": [
    "import os\n",
    "import pandas as pd\n",
    "import seaborn as sns\n",
    "import matplotlib.pyplot as plt\n",
    "import numpy as np\n",
    "%matplotlib inline\n"
   ]
  },
  {
   "cell_type": "code",
   "execution_count": 67,
   "metadata": {},
   "outputs": [],
   "source": [
    "os.chdir(\"/Users/richcriticism/Documents/Documents/Bhavya_code/machine learning/CorrectPose2\")"
   ]
  },
  {
   "cell_type": "code",
   "execution_count": 68,
   "metadata": {},
   "outputs": [
    {
     "data": {
      "text/plain": [
       "'/Users/richcriticism/Documents/Documents/Bhavya_code/machine learning/CorrectPose2'"
      ]
     },
     "execution_count": 68,
     "metadata": {},
     "output_type": "execute_result"
    }
   ],
   "source": [
    "%pwd"
   ]
  },
  {
   "cell_type": "code",
   "execution_count": 69,
   "metadata": {},
   "outputs": [],
   "source": [
    "from dataclasses import dataclass\n",
    "from pathlib import Path\n",
    "\n",
    "@dataclass(frozen=True)\n",
    "class PrepareModelConfig:\n",
    "    root_dir: Path\n",
    "    model_path: Path\n",
    "    updated_model_path : Path\n",
    "    params_learning_rate: float\n",
    "    params_weights: str\n",
    "    params_classes: int\n",
    "    \n"
   ]
  },
  {
   "cell_type": "markdown",
   "metadata": {},
   "source": [
    "/Users/richcriticism/Documents/Documents/Bhavya_code/machine learning/CorrectPose2/src/cnnClassifier"
   ]
  },
  {
   "cell_type": "code",
   "execution_count": 70,
   "metadata": {},
   "outputs": [],
   "source": [
    "from cnnClassifier.constants import *\n",
    "from cnnClassifier.utils.common import read_yaml, create_directories"
   ]
  },
  {
   "cell_type": "code",
   "execution_count": 71,
   "metadata": {},
   "outputs": [],
   "source": [
    "import os\n",
    "import urllib.request as request\n",
    "from zipfile import ZipFile\n",
    "import tensorflow as tf"
   ]
  },
  {
   "cell_type": "code",
   "execution_count": 72,
   "metadata": {},
   "outputs": [],
   "source": [
    "class ConfigurationManager:\n",
    "        def __init__(\n",
    "            self,\n",
    "            config_filepath = CONFIG_FILE_PATH,\n",
    "            params_filepath = PARAMS_FILE_PATH):\n",
    "            self.config = read_yaml(CONFIG_FILE_PATH)\n",
    "            self.params = read_yaml(PARAMS_FILE_PATH)\n",
    "            create_directories([self.config.artifacts_root])\n",
    "        \n",
    "        def get_prepare_model_config(self) -> PrepareModelConfig:\n",
    "            config = self.config.prepare_model\n",
    "\n",
    "            create_directories([config.root_dir])\n",
    "      \n",
    "\n",
    "            prepare_model_config = PrepareModelConfig(\n",
    "                  root_dir = Path(config.root_dir),\n",
    "                  model_path = Path(config.model_path),\n",
    "                  updated_model_path = Path(config.updated_model_path),\n",
    "                  params_learning_rate = self.params.LEARNING_RATE,\n",
    "                  params_weights = self.params.WEIGHTS,\n",
    "                  params_classes = self.params.CLASSES\n",
    "              )\n",
    "            \n",
    "            return prepare_model_config"
   ]
  },
  {
   "cell_type": "code",
   "execution_count": 76,
   "metadata": {},
   "outputs": [],
   "source": [
    "import os\n",
    "import urllib.request as request\n",
    "from zipfile import ZipFile\n",
    "import tensorflow as tf\n",
    "from tensorflow.keras import Sequential\n",
    "from keras.layers import Dense, Dropout, Activation"
   ]
  },
  {
   "cell_type": "code",
   "execution_count": 79,
   "metadata": {},
   "outputs": [],
   "source": [
    "class PrepareModel:\n",
    "    def __init__(self, config: PrepareModelConfig):\n",
    "        self.config = config\n",
    "        self.model = None\n",
    "\n",
    "    @staticmethod\n",
    "    def _prepare_full_model():\n",
    "\n",
    "         \n",
    "        model = Sequential([\n",
    "            Dense(6, activation='ReLU'),\n",
    "            Dense(12, activation='ReLU'),\n",
    "            Dense(24, activation='ReLU'),\n",
    "            Dense(1, activation='sigmoid')])\n",
    "         \n",
    "         \n",
    "        model.compile(optimizer='Adam', loss='binary_crossentropy', metrics = ['accuracy'])\n",
    "         \n",
    "        model.summary()\n",
    "         \n",
    "        return model\n",
    "    \n",
    "    def update_model(self):\n",
    "        self.model = self._prepare_full_model(\n",
    "        model = self.model,\n",
    "        classes = self.congig.params_classes,\n",
    "        freeze_all = True,\n",
    "        freeze_till = None,\n",
    "        learning_rate = self.config.params_learning_rate\n",
    "    )\n",
    "\n",
    "        self.save_model(path = self.config.updated_model_path, model = self.model)\n",
    "\n",
    "    \n",
    "    @staticmethod\n",
    "    def save_model(path, model: tf.keras.Model):\n",
    "        model.save(path)"
   ]
  },
  {
   "cell_type": "code",
   "execution_count": 80,
   "metadata": {},
   "outputs": [
    {
     "name": "stdout",
     "output_type": "stream",
     "text": [
      "[2024-04-01 21:51:31,885: INFO : common : yaml file : config/config.yaml loaded successfully]\n",
      "[2024-04-01 21:51:31,887: INFO : common : yaml file : params.yaml loaded successfully]\n",
      "[2024-04-01 21:51:31,888: INFO : common : creating directory at path: artifacts]\n",
      "[2024-04-01 21:51:31,888: INFO : common : creating directory at path: artifacts/prepare_base_model]\n"
     ]
    },
    {
     "ename": "AttributeError",
     "evalue": "'PrepareModel' object has no attribute 'params'",
     "output_type": "error",
     "traceback": [
      "\u001b[0;31m---------------------------------------------------------------------------\u001b[0m",
      "\u001b[0;31mAttributeError\u001b[0m                            Traceback (most recent call last)",
      "Cell \u001b[0;32mIn[80], line 8\u001b[0m\n\u001b[1;32m      5\u001b[0m     prepare_model\u001b[38;5;241m.\u001b[39mupdate_model()\n\u001b[1;32m      7\u001b[0m \u001b[38;5;28;01mexcept\u001b[39;00m \u001b[38;5;167;01mException\u001b[39;00m \u001b[38;5;28;01mas\u001b[39;00m e:\n\u001b[0;32m----> 8\u001b[0m     \u001b[38;5;28;01mraise\u001b[39;00m e\n",
      "Cell \u001b[0;32mIn[80], line 5\u001b[0m\n\u001b[1;32m      3\u001b[0m     prepare_model_config \u001b[38;5;241m=\u001b[39m config\u001b[38;5;241m.\u001b[39mget_prepare_model_config()\n\u001b[1;32m      4\u001b[0m     prepare_model \u001b[38;5;241m=\u001b[39m PrepareModel(config \u001b[38;5;241m=\u001b[39m PrepareModelConfig)\n\u001b[0;32m----> 5\u001b[0m     \u001b[43mprepare_model\u001b[49m\u001b[38;5;241;43m.\u001b[39;49m\u001b[43mupdate_model\u001b[49m\u001b[43m(\u001b[49m\u001b[43m)\u001b[49m\n\u001b[1;32m      7\u001b[0m \u001b[38;5;28;01mexcept\u001b[39;00m \u001b[38;5;167;01mException\u001b[39;00m \u001b[38;5;28;01mas\u001b[39;00m e:\n\u001b[1;32m      8\u001b[0m     \u001b[38;5;28;01mraise\u001b[39;00m e\n",
      "Cell \u001b[0;32mIn[79], line 26\u001b[0m, in \u001b[0;36mPrepareModel.update_model\u001b[0;34m(self)\u001b[0m\n\u001b[1;32m     23\u001b[0m \u001b[38;5;28;01mdef\u001b[39;00m \u001b[38;5;21mupdate_model\u001b[39m(\u001b[38;5;28mself\u001b[39m):\n\u001b[1;32m     24\u001b[0m     \u001b[38;5;28mself\u001b[39m\u001b[38;5;241m.\u001b[39mmodel \u001b[38;5;241m=\u001b[39m \u001b[38;5;28mself\u001b[39m\u001b[38;5;241m.\u001b[39m_prepare_full_model(\n\u001b[1;32m     25\u001b[0m     model \u001b[38;5;241m=\u001b[39m \u001b[38;5;28mself\u001b[39m\u001b[38;5;241m.\u001b[39mmodel,\n\u001b[0;32m---> 26\u001b[0m     classes \u001b[38;5;241m=\u001b[39m \u001b[38;5;28;43mself\u001b[39;49m\u001b[38;5;241;43m.\u001b[39;49m\u001b[43mparams\u001b[49m\u001b[38;5;241m.\u001b[39mparams_classes,\n\u001b[1;32m     27\u001b[0m     freeze_all \u001b[38;5;241m=\u001b[39m \u001b[38;5;28;01mTrue\u001b[39;00m,\n\u001b[1;32m     28\u001b[0m     freeze_till \u001b[38;5;241m=\u001b[39m \u001b[38;5;28;01mNone\u001b[39;00m,\n\u001b[1;32m     29\u001b[0m     learning_rate \u001b[38;5;241m=\u001b[39m \u001b[38;5;28mself\u001b[39m\u001b[38;5;241m.\u001b[39mconfig\u001b[38;5;241m.\u001b[39mparams_learning_rate\n\u001b[1;32m     30\u001b[0m )\n\u001b[1;32m     32\u001b[0m     \u001b[38;5;28mself\u001b[39m\u001b[38;5;241m.\u001b[39msave_model(path \u001b[38;5;241m=\u001b[39m \u001b[38;5;28mself\u001b[39m\u001b[38;5;241m.\u001b[39mconfig\u001b[38;5;241m.\u001b[39mupdated_model_path, model \u001b[38;5;241m=\u001b[39m \u001b[38;5;28mself\u001b[39m\u001b[38;5;241m.\u001b[39mmodel)\n",
      "\u001b[0;31mAttributeError\u001b[0m: 'PrepareModel' object has no attribute 'params'"
     ]
    }
   ],
   "source": [
    "try:\n",
    "    config = ConfigurationManager()\n",
    "    prepare_model_config = config.get_prepare_model_config()\n",
    "    prepare_model = PrepareModel(config = PrepareModelConfig)\n",
    "    prepare_model.update_model()\n",
    "\n",
    "except Exception as e:\n",
    "    raise e"
   ]
  },
  {
   "cell_type": "code",
   "execution_count": null,
   "metadata": {},
   "outputs": [],
   "source": []
  },
  {
   "cell_type": "code",
   "execution_count": null,
   "metadata": {},
   "outputs": [],
   "source": []
  }
 ],
 "metadata": {
  "kernelspec": {
   "display_name": "Python 3",
   "language": "python",
   "name": "python3"
  },
  "language_info": {
   "codemirror_mode": {
    "name": "ipython",
    "version": 3
   },
   "file_extension": ".py",
   "mimetype": "text/x-python",
   "name": "python",
   "nbconvert_exporter": "python",
   "pygments_lexer": "ipython3",
   "version": "3.12.2"
  }
 },
 "nbformat": 4,
 "nbformat_minor": 2
}
