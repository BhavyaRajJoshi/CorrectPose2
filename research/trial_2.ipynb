{
 "cells": [
  {
   "cell_type": "code",
   "execution_count": 1,
   "metadata": {},
   "outputs": [],
   "source": [
    "import pandas as  pd \n",
    "import numpy as np"
   ]
  },
  {
   "cell_type": "code",
   "execution_count": 3,
   "metadata": {},
   "outputs": [],
   "source": [
    "import os\n",
    "os.chdir(\"/Users/richcriticism/Documents/Documents/Bhavya_code/CorrectPose2\")"
   ]
  },
  {
   "cell_type": "code",
   "execution_count": 4,
   "metadata": {},
   "outputs": [],
   "source": [
    "df = pd.read_csv(\"artifacts/data_extraction/extracted_data/training_data.csv\")"
   ]
  },
  {
   "cell_type": "code",
   "execution_count": 5,
   "metadata": {},
   "outputs": [
    {
     "data": {
      "text/html": [
       "<div>\n",
       "<style scoped>\n",
       "    .dataframe tbody tr th:only-of-type {\n",
       "        vertical-align: middle;\n",
       "    }\n",
       "\n",
       "    .dataframe tbody tr th {\n",
       "        vertical-align: top;\n",
       "    }\n",
       "\n",
       "    .dataframe thead th {\n",
       "        text-align: right;\n",
       "    }\n",
       "</style>\n",
       "<table border=\"1\" class=\"dataframe\">\n",
       "  <thead>\n",
       "    <tr style=\"text-align: right;\">\n",
       "      <th></th>\n",
       "      <th>left_elbow_angle</th>\n",
       "      <th>right_elbow_angle</th>\n",
       "      <th>left_shoulder_angle</th>\n",
       "      <th>right_shoulder_angle</th>\n",
       "      <th>left_knee_angle</th>\n",
       "      <th>right_knee_angle</th>\n",
       "    </tr>\n",
       "  </thead>\n",
       "  <tbody>\n",
       "    <tr>\n",
       "      <th>0</th>\n",
       "      <td>169.628719</td>\n",
       "      <td>167.524370</td>\n",
       "      <td>160.264565</td>\n",
       "      <td>203.991291</td>\n",
       "      <td>186.351037</td>\n",
       "      <td>181.905870</td>\n",
       "    </tr>\n",
       "    <tr>\n",
       "      <th>1</th>\n",
       "      <td>163.575509</td>\n",
       "      <td>170.567945</td>\n",
       "      <td>165.311213</td>\n",
       "      <td>195.421785</td>\n",
       "      <td>181.174391</td>\n",
       "      <td>177.600606</td>\n",
       "    </tr>\n",
       "    <tr>\n",
       "      <th>2</th>\n",
       "      <td>163.575509</td>\n",
       "      <td>170.567945</td>\n",
       "      <td>165.311213</td>\n",
       "      <td>195.421785</td>\n",
       "      <td>181.174391</td>\n",
       "      <td>177.600606</td>\n",
       "    </tr>\n",
       "    <tr>\n",
       "      <th>3</th>\n",
       "      <td>196.489356</td>\n",
       "      <td>190.002506</td>\n",
       "      <td>209.823101</td>\n",
       "      <td>150.113611</td>\n",
       "      <td>182.611865</td>\n",
       "      <td>183.012658</td>\n",
       "    </tr>\n",
       "    <tr>\n",
       "      <th>4</th>\n",
       "      <td>195.384657</td>\n",
       "      <td>196.863638</td>\n",
       "      <td>193.339249</td>\n",
       "      <td>167.266075</td>\n",
       "      <td>172.896277</td>\n",
       "      <td>173.235103</td>\n",
       "    </tr>\n",
       "  </tbody>\n",
       "</table>\n",
       "</div>"
      ],
      "text/plain": [
       "   left_elbow_angle  right_elbow_angle  left_shoulder_angle  \\\n",
       "0        169.628719         167.524370           160.264565   \n",
       "1        163.575509         170.567945           165.311213   \n",
       "2        163.575509         170.567945           165.311213   \n",
       "3        196.489356         190.002506           209.823101   \n",
       "4        195.384657         196.863638           193.339249   \n",
       "\n",
       "   right_shoulder_angle  left_knee_angle  right_knee_angle  \n",
       "0            203.991291       186.351037        181.905870  \n",
       "1            195.421785       181.174391        177.600606  \n",
       "2            195.421785       181.174391        177.600606  \n",
       "3            150.113611       182.611865        183.012658  \n",
       "4            167.266075       172.896277        173.235103  "
      ]
     },
     "execution_count": 5,
     "metadata": {},
     "output_type": "execute_result"
    }
   ],
   "source": [
    "df.head()"
   ]
  },
  {
   "cell_type": "code",
   "execution_count": null,
   "metadata": {},
   "outputs": [],
   "source": []
  }
 ],
 "metadata": {
  "kernelspec": {
   "display_name": "Python 3",
   "language": "python",
   "name": "python3"
  },
  "language_info": {
   "codemirror_mode": {
    "name": "ipython",
    "version": 3
   },
   "file_extension": ".py",
   "mimetype": "text/x-python",
   "name": "python",
   "nbconvert_exporter": "python",
   "pygments_lexer": "ipython3",
   "version": "3.12.2"
  }
 },
 "nbformat": 4,
 "nbformat_minor": 2
}
