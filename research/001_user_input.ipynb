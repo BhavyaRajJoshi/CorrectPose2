{
 "cells": [
  {
   "cell_type": "code",
   "execution_count": 1,
   "metadata": {},
   "outputs": [],
   "source": [
    "import pandas as pd"
   ]
  },
  {
   "cell_type": "code",
   "execution_count": 6,
   "metadata": {},
   "outputs": [],
   "source": [
    "import cv2\n",
    "import time\n",
    "import os"
   ]
  },
  {
   "cell_type": "code",
   "execution_count": 8,
   "metadata": {},
   "outputs": [],
   "source": [
    "os.chdir(\"/Users/richcriticism/Documents/Documents/Bhavya_code/CorrectPose2\")"
   ]
  },
  {
   "cell_type": "code",
   "execution_count": 15,
   "metadata": {},
   "outputs": [
    {
     "name": "stdout",
     "output_type": "stream",
     "text": [
      "default fps = 30.0\n",
      "Frame 0 saved as artifacts/video_frames/trail_001/frame_0000.jpg\n",
      "Frame 1 saved as artifacts/video_frames/trail_001/frame_0001.jpg\n",
      "Frame 2 saved as artifacts/video_frames/trail_001/frame_0002.jpg\n",
      "Frame 3 saved as artifacts/video_frames/trail_001/frame_0003.jpg\n",
      "Frame 4 saved as artifacts/video_frames/trail_001/frame_0004.jpg\n",
      "Frame 5 saved as artifacts/video_frames/trail_001/frame_0005.jpg\n",
      "Frame 6 saved as artifacts/video_frames/trail_001/frame_0006.jpg\n",
      "Frame 7 saved as artifacts/video_frames/trail_001/frame_0007.jpg\n",
      "Frame 8 saved as artifacts/video_frames/trail_001/frame_0008.jpg\n",
      "Frame 9 saved as artifacts/video_frames/trail_001/frame_0009.jpg\n",
      "Frame 10 saved as artifacts/video_frames/trail_001/frame_0010.jpg\n",
      "Frame 11 saved as artifacts/video_frames/trail_001/frame_0011.jpg\n",
      "Frame 12 saved as artifacts/video_frames/trail_001/frame_0012.jpg\n",
      "Frame 13 saved as artifacts/video_frames/trail_001/frame_0013.jpg\n",
      "Frame 14 saved as artifacts/video_frames/trail_001/frame_0014.jpg\n",
      "Frame 15 saved as artifacts/video_frames/trail_001/frame_0015.jpg\n",
      "Frame 16 saved as artifacts/video_frames/trail_001/frame_0016.jpg\n",
      "Frame 17 saved as artifacts/video_frames/trail_001/frame_0017.jpg\n",
      "Frame 18 saved as artifacts/video_frames/trail_001/frame_0018.jpg\n",
      "Frame 19 saved as artifacts/video_frames/trail_001/frame_0019.jpg\n",
      "Frame 20 saved as artifacts/video_frames/trail_001/frame_0020.jpg\n",
      "Frame 21 saved as artifacts/video_frames/trail_001/frame_0021.jpg\n",
      "3.041109085083008 seconds elapsed. Stopping video capture.\n"
     ]
    },
    {
     "ename": "",
     "evalue": "",
     "output_type": "error",
     "traceback": [
      "\u001b[1;31mThe Kernel crashed while executing code in the current cell or a previous cell. \n",
      "\u001b[1;31mPlease review the code in the cell(s) to identify a possible cause of the failure. \n",
      "\u001b[1;31mClick <a href='https://aka.ms/vscodeJupyterKernelCrash'>here</a> for more info. \n",
      "\u001b[1;31mView Jupyter <a href='command:jupyter.viewOutput'>log</a> for further details."
     ]
    }
   ],
   "source": [
    "cap = cv2.VideoCapture(0)\n",
    "\n",
    "if not cap.isOpened():\n",
    "    print(\"Error: Could not open webcam.\")\n",
    "    exit()\n",
    "\n",
    "output_dir = 'artifacts/video_frames/trail_001'\n",
    "if not os.path.exists(output_dir):\n",
    "    os.makedirs(output_dir)\n",
    "\n",
    "frame_count = 0\n",
    "start_time = time.time()\n",
    "duration = 3\n",
    "fps = cap.get(cv2.CAP_PROP_FPS)\n",
    "print(f\"default fps = {fps}\")\n",
    "desired_fps = 10\n",
    "frame_time = 1 / desired_fps\n",
    "\n",
    "while True:\n",
    "    # Capture frame-by-frame\n",
    "    elapsed_time = time.time() - start_time\n",
    "\n",
    "    if elapsed_time > duration:\n",
    "        print(f\"{elapsed_time} seconds elapsed. Stopping video capture.\")\n",
    "        break\n",
    "\n",
    "    ret, frame = cap.read()\n",
    "\n",
    "    # If the frame is not captured correctly, break the loop\n",
    "    if not ret:\n",
    "        print(\"Failed to grab frame.\")\n",
    "        break\n",
    "\n",
    "    # Display the captured frame\n",
    "    cv2.imshow('Live Video Feed', frame)\n",
    "\n",
    "    # Save the current frame (optional)\n",
    "    frame_filename = f\"{output_dir}/frame_{frame_count:04d}.jpg\"\n",
    "    cv2.imwrite(frame_filename, frame)\n",
    "\n",
    "    print(f\"Frame {frame_count} saved as {frame_filename}\")\n",
    "    frame_count += 1\n",
    "\n",
    "    time.sleep(frame_time)\n",
    "\n",
    "    # Exit the loop when 'q' is pressed\n",
    "    if cv2.waitKey(1) & 0xFF == ord('q'):\n",
    "        break\n",
    "\n",
    "# Release the capture and close windows\n",
    "cap.release()\n",
    "cv2.destroyAllWindows()\n"
   ]
  },
  {
   "cell_type": "code",
   "execution_count": 3,
   "metadata": {},
   "outputs": [],
   "source": []
  },
  {
   "cell_type": "code",
   "execution_count": null,
   "metadata": {},
   "outputs": [],
   "source": [
    "#code for sending the images into the "
   ]
  }
 ],
 "metadata": {
  "kernelspec": {
   "display_name": "Python 3",
   "language": "python",
   "name": "python3"
  },
  "language_info": {
   "codemirror_mode": {
    "name": "ipython",
    "version": 3
   },
   "file_extension": ".py",
   "mimetype": "text/x-python",
   "name": "python",
   "nbconvert_exporter": "python",
   "pygments_lexer": "ipython3",
   "version": "3.12.2"
  }
 },
 "nbformat": 4,
 "nbformat_minor": 2
}
