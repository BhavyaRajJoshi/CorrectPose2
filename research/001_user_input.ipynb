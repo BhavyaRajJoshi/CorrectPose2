{
 "cells": [
  {
   "cell_type": "markdown",
   "metadata": {},
   "source": [
    "I have to convert this notebook into a full fleged production based modeule."
   ]
  },
  {
   "cell_type": "code",
   "execution_count": 1,
   "metadata": {},
   "outputs": [],
   "source": [
    "import pandas as pd"
   ]
  },
  {
   "cell_type": "code",
   "execution_count": 2,
   "metadata": {},
   "outputs": [],
   "source": [
    "import cv2\n",
    "import time\n",
    "import os"
   ]
  },
  {
   "cell_type": "code",
   "execution_count": 3,
   "metadata": {},
   "outputs": [],
   "source": [
    "os.chdir(\"/Users/richcriticism/Documents/Documents/Bhavya_code/CorrectPose2\")"
   ]
  },
  {
   "cell_type": "code",
   "execution_count": 10,
   "metadata": {},
   "outputs": [
    {
     "name": "stdout",
     "output_type": "stream",
     "text": [
      "default fps = 30.0\n",
      "Frame 0 saved as artifacts/video_frames/trail_001/frame_0000.jpg\n",
      "Frame 1 saved as artifacts/video_frames/trail_001/frame_0001.jpg\n"
     ]
    },
    {
     "name": "stderr",
     "output_type": "stream",
     "text": [
      "2025-02-01 15:16:32.879 Python[15805:5303539] WARNING: Secure coding is not enabled for restorable state! Enable secure coding by implementing NSApplicationDelegate.applicationSupportsSecureRestorableState: and returning YES.\n"
     ]
    },
    {
     "name": "stdout",
     "output_type": "stream",
     "text": [
      "Frame 2 saved as artifacts/video_frames/trail_001/frame_0002.jpg\n",
      "Frame 3 saved as artifacts/video_frames/trail_001/frame_0003.jpg\n",
      "Frame 4 saved as artifacts/video_frames/trail_001/frame_0004.jpg\n",
      "Frame 5 saved as artifacts/video_frames/trail_001/frame_0005.jpg\n",
      "Frame 6 saved as artifacts/video_frames/trail_001/frame_0006.jpg\n",
      "Frame 7 saved as artifacts/video_frames/trail_001/frame_0007.jpg\n",
      "Frame 8 saved as artifacts/video_frames/trail_001/frame_0008.jpg\n",
      "Frame 9 saved as artifacts/video_frames/trail_001/frame_0009.jpg\n",
      "Frame 10 saved as artifacts/video_frames/trail_001/frame_0010.jpg\n",
      "Frame 11 saved as artifacts/video_frames/trail_001/frame_0011.jpg\n",
      "Frame 12 saved as artifacts/video_frames/trail_001/frame_0012.jpg\n",
      "Frame 13 saved as artifacts/video_frames/trail_001/frame_0013.jpg\n",
      "Frame 14 saved as artifacts/video_frames/trail_001/frame_0014.jpg\n",
      "Frame 15 saved as artifacts/video_frames/trail_001/frame_0015.jpg\n",
      "Frame 16 saved as artifacts/video_frames/trail_001/frame_0016.jpg\n",
      "Frame 17 saved as artifacts/video_frames/trail_001/frame_0017.jpg\n",
      "Frame 18 saved as artifacts/video_frames/trail_001/frame_0018.jpg\n",
      "Frame 19 saved as artifacts/video_frames/trail_001/frame_0019.jpg\n",
      "Frame 20 saved as artifacts/video_frames/trail_001/frame_0020.jpg\n",
      "Frame 21 saved as artifacts/video_frames/trail_001/frame_0021.jpg\n",
      "Frame 22 saved as artifacts/video_frames/trail_001/frame_0022.jpg\n",
      "Frame 23 saved as artifacts/video_frames/trail_001/frame_0023.jpg\n",
      "Frame 24 saved as artifacts/video_frames/trail_001/frame_0024.jpg\n",
      "Frame 25 saved as artifacts/video_frames/trail_001/frame_0025.jpg\n",
      "Frame 26 saved as artifacts/video_frames/trail_001/frame_0026.jpg\n",
      "Frame 27 saved as artifacts/video_frames/trail_001/frame_0027.jpg\n",
      "Frame 28 saved as artifacts/video_frames/trail_001/frame_0028.jpg\n",
      "Frame 29 saved as artifacts/video_frames/trail_001/frame_0029.jpg\n",
      "Frame 30 saved as artifacts/video_frames/trail_001/frame_0030.jpg\n",
      "Frame 31 saved as artifacts/video_frames/trail_001/frame_0031.jpg\n",
      "Frame 32 saved as artifacts/video_frames/trail_001/frame_0032.jpg\n",
      "Frame 33 saved as artifacts/video_frames/trail_001/frame_0033.jpg\n",
      "Frame 34 saved as artifacts/video_frames/trail_001/frame_0034.jpg\n",
      "Frame 35 saved as artifacts/video_frames/trail_001/frame_0035.jpg\n",
      "Frame 36 saved as artifacts/video_frames/trail_001/frame_0036.jpg\n",
      "Frame 37 saved as artifacts/video_frames/trail_001/frame_0037.jpg\n",
      "Frame 38 saved as artifacts/video_frames/trail_001/frame_0038.jpg\n",
      "Frame 39 saved as artifacts/video_frames/trail_001/frame_0039.jpg\n",
      "Frame 40 saved as artifacts/video_frames/trail_001/frame_0040.jpg\n",
      "Frame 41 saved as artifacts/video_frames/trail_001/frame_0041.jpg\n",
      "Frame 42 saved as artifacts/video_frames/trail_001/frame_0042.jpg\n",
      "Frame 43 saved as artifacts/video_frames/trail_001/frame_0043.jpg\n",
      "Frame 44 saved as artifacts/video_frames/trail_001/frame_0044.jpg\n",
      "Frame 45 saved as artifacts/video_frames/trail_001/frame_0045.jpg\n",
      "Frame 46 saved as artifacts/video_frames/trail_001/frame_0046.jpg\n",
      "Frame 47 saved as artifacts/video_frames/trail_001/frame_0047.jpg\n",
      "Frame 48 saved as artifacts/video_frames/trail_001/frame_0048.jpg\n",
      "Frame 49 saved as artifacts/video_frames/trail_001/frame_0049.jpg\n",
      "Frame 50 saved as artifacts/video_frames/trail_001/frame_0050.jpg\n",
      "Frame 51 saved as artifacts/video_frames/trail_001/frame_0051.jpg\n",
      "Frame 52 saved as artifacts/video_frames/trail_001/frame_0052.jpg\n",
      "Frame 53 saved as artifacts/video_frames/trail_001/frame_0053.jpg\n",
      "Frame 54 saved as artifacts/video_frames/trail_001/frame_0054.jpg\n",
      "Frame 55 saved as artifacts/video_frames/trail_001/frame_0055.jpg\n",
      "Frame 56 saved as artifacts/video_frames/trail_001/frame_0056.jpg\n",
      "Frame 57 saved as artifacts/video_frames/trail_001/frame_0057.jpg\n",
      "Frame 58 saved as artifacts/video_frames/trail_001/frame_0058.jpg\n",
      "Frame 59 saved as artifacts/video_frames/trail_001/frame_0059.jpg\n",
      "Frame 60 saved as artifacts/video_frames/trail_001/frame_0060.jpg\n",
      "Frame 61 saved as artifacts/video_frames/trail_001/frame_0061.jpg\n",
      "Frame 62 saved as artifacts/video_frames/trail_001/frame_0062.jpg\n",
      "Frame 63 saved as artifacts/video_frames/trail_001/frame_0063.jpg\n",
      "Frame 64 saved as artifacts/video_frames/trail_001/frame_0064.jpg\n",
      "Frame 65 saved as artifacts/video_frames/trail_001/frame_0065.jpg\n",
      "Frame 66 saved as artifacts/video_frames/trail_001/frame_0066.jpg\n",
      "Frame 67 saved as artifacts/video_frames/trail_001/frame_0067.jpg\n",
      "Frame 68 saved as artifacts/video_frames/trail_001/frame_0068.jpg\n",
      "Frame 69 saved as artifacts/video_frames/trail_001/frame_0069.jpg\n",
      "Frame 70 saved as artifacts/video_frames/trail_001/frame_0070.jpg\n",
      "Frame 71 saved as artifacts/video_frames/trail_001/frame_0071.jpg\n",
      "Frame 72 saved as artifacts/video_frames/trail_001/frame_0072.jpg\n",
      "Frame 73 saved as artifacts/video_frames/trail_001/frame_0073.jpg\n",
      "Frame 74 saved as artifacts/video_frames/trail_001/frame_0074.jpg\n",
      "Frame 75 saved as artifacts/video_frames/trail_001/frame_0075.jpg\n",
      "Frame 76 saved as artifacts/video_frames/trail_001/frame_0076.jpg\n",
      "Frame 77 saved as artifacts/video_frames/trail_001/frame_0077.jpg\n",
      "Frame 78 saved as artifacts/video_frames/trail_001/frame_0078.jpg\n",
      "Frame 79 saved as artifacts/video_frames/trail_001/frame_0079.jpg\n",
      "Frame 80 saved as artifacts/video_frames/trail_001/frame_0080.jpg\n",
      "Frame 81 saved as artifacts/video_frames/trail_001/frame_0081.jpg\n",
      "Frame 82 saved as artifacts/video_frames/trail_001/frame_0082.jpg\n",
      "Frame 83 saved as artifacts/video_frames/trail_001/frame_0083.jpg\n",
      "Frame 84 saved as artifacts/video_frames/trail_001/frame_0084.jpg\n",
      "Frame 85 saved as artifacts/video_frames/trail_001/frame_0085.jpg\n",
      "Frame 86 saved as artifacts/video_frames/trail_001/frame_0086.jpg\n",
      "Frame 87 saved as artifacts/video_frames/trail_001/frame_0087.jpg\n",
      "Frame 88 saved as artifacts/video_frames/trail_001/frame_0088.jpg\n",
      "Frame 89 saved as artifacts/video_frames/trail_001/frame_0089.jpg\n",
      "Frame 90 saved as artifacts/video_frames/trail_001/frame_0090.jpg\n",
      "Frame 91 saved as artifacts/video_frames/trail_001/frame_0091.jpg\n",
      "Frame 92 saved as artifacts/video_frames/trail_001/frame_0092.jpg\n",
      "Frame 93 saved as artifacts/video_frames/trail_001/frame_0093.jpg\n",
      "Frame 94 saved as artifacts/video_frames/trail_001/frame_0094.jpg\n",
      "Frame 95 saved as artifacts/video_frames/trail_001/frame_0095.jpg\n",
      "Frame 96 saved as artifacts/video_frames/trail_001/frame_0096.jpg\n",
      "Frame 97 saved as artifacts/video_frames/trail_001/frame_0097.jpg\n",
      "Frame 98 saved as artifacts/video_frames/trail_001/frame_0098.jpg\n",
      "Frame 99 saved as artifacts/video_frames/trail_001/frame_0099.jpg\n",
      "Frame 100 saved as artifacts/video_frames/trail_001/frame_0100.jpg\n",
      "Frame 101 saved as artifacts/video_frames/trail_001/frame_0101.jpg\n",
      "Frame 102 saved as artifacts/video_frames/trail_001/frame_0102.jpg\n",
      "Frame 103 saved as artifacts/video_frames/trail_001/frame_0103.jpg\n",
      "Frame 104 saved as artifacts/video_frames/trail_001/frame_0104.jpg\n",
      "Frame 105 saved as artifacts/video_frames/trail_001/frame_0105.jpg\n",
      "Frame 106 saved as artifacts/video_frames/trail_001/frame_0106.jpg\n",
      "Frame 107 saved as artifacts/video_frames/trail_001/frame_0107.jpg\n",
      "Frame 108 saved as artifacts/video_frames/trail_001/frame_0108.jpg\n",
      "Frame 109 saved as artifacts/video_frames/trail_001/frame_0109.jpg\n",
      "Frame 110 saved as artifacts/video_frames/trail_001/frame_0110.jpg\n",
      "Frame 111 saved as artifacts/video_frames/trail_001/frame_0111.jpg\n",
      "Frame 112 saved as artifacts/video_frames/trail_001/frame_0112.jpg\n",
      "Frame 113 saved as artifacts/video_frames/trail_001/frame_0113.jpg\n",
      "Frame 114 saved as artifacts/video_frames/trail_001/frame_0114.jpg\n",
      "Frame 115 saved as artifacts/video_frames/trail_001/frame_0115.jpg\n",
      "Frame 116 saved as artifacts/video_frames/trail_001/frame_0116.jpg\n",
      "Frame 117 saved as artifacts/video_frames/trail_001/frame_0117.jpg\n",
      "Frame 118 saved as artifacts/video_frames/trail_001/frame_0118.jpg\n",
      "Frame 119 saved as artifacts/video_frames/trail_001/frame_0119.jpg\n",
      "Frame 120 saved as artifacts/video_frames/trail_001/frame_0120.jpg\n",
      "Frame 121 saved as artifacts/video_frames/trail_001/frame_0121.jpg\n",
      "Frame 122 saved as artifacts/video_frames/trail_001/frame_0122.jpg\n",
      "Frame 123 saved as artifacts/video_frames/trail_001/frame_0123.jpg\n",
      "Frame 124 saved as artifacts/video_frames/trail_001/frame_0124.jpg\n",
      "Frame 125 saved as artifacts/video_frames/trail_001/frame_0125.jpg\n",
      "Frame 126 saved as artifacts/video_frames/trail_001/frame_0126.jpg\n",
      "Frame 127 saved as artifacts/video_frames/trail_001/frame_0127.jpg\n",
      "Frame 128 saved as artifacts/video_frames/trail_001/frame_0128.jpg\n",
      "Frame 129 saved as artifacts/video_frames/trail_001/frame_0129.jpg\n",
      "Frame 130 saved as artifacts/video_frames/trail_001/frame_0130.jpg\n",
      "Frame 131 saved as artifacts/video_frames/trail_001/frame_0131.jpg\n",
      "Frame 132 saved as artifacts/video_frames/trail_001/frame_0132.jpg\n",
      "Frame 133 saved as artifacts/video_frames/trail_001/frame_0133.jpg\n",
      "Frame 134 saved as artifacts/video_frames/trail_001/frame_0134.jpg\n",
      "Frame 135 saved as artifacts/video_frames/trail_001/frame_0135.jpg\n",
      "Frame 136 saved as artifacts/video_frames/trail_001/frame_0136.jpg\n",
      "10.00712776184082 seconds elapsed. Stopping video capture.\n"
     ]
    },
    {
     "ename": "",
     "evalue": "",
     "output_type": "error",
     "traceback": [
      "\u001b[1;31mThe Kernel crashed while executing code in the current cell or a previous cell. \n",
      "\u001b[1;31mPlease review the code in the cell(s) to identify a possible cause of the failure. \n",
      "\u001b[1;31mClick <a href='https://aka.ms/vscodeJupyterKernelCrash'>here</a> for more info. \n",
      "\u001b[1;31mView Jupyter <a href='command:jupyter.viewOutput'>log</a> for further details."
     ]
    }
   ],
   "source": [
    "cap = cv2.VideoCapture(0)\n",
    "\n",
    "if not cap.isOpened():\n",
    "    print(\"Error: Could not open webcam.\")\n",
    "    exit()\n",
    "\n",
    "output_dir = 'artifacts/video_frames/trail_001'\n",
    "if not os.path.exists(output_dir):\n",
    "    os.makedirs(output_dir)\n",
    "\n",
    "frame_count = 0\n",
    "start_time = time.time()\n",
    "duration = 10\n",
    "fps = cap.get(cv2.CAP_PROP_FPS)\n",
    "print(f\"default fps = {fps}\")\n",
    "desired_fps = 30\n",
    "frame_time = 1 / desired_fps\n",
    "\n",
    "while True:\n",
    "    # Capture frame-by-frame\n",
    "    elapsed_time = time.time() - start_time\n",
    "\n",
    "    if elapsed_time > duration:\n",
    "        print(f\"{elapsed_time} seconds elapsed. Stopping video capture.\")\n",
    "        break\n",
    "\n",
    "    ret, frame = cap.read()\n",
    "\n",
    "    # If the frame is not captured correctly, break the loop\n",
    "    if not ret:\n",
    "        print(\"Failed to grab frame.\")\n",
    "        break\n",
    "\n",
    "    # Display the captured frame\n",
    "    cv2.imshow('Live Video Feed', frame)\n",
    "\n",
    "    # Save the current frame (optional)\n",
    "    frame_filename = f\"{output_dir}/frame_{frame_count:04d}.jpg\"\n",
    "    cv2.imwrite(frame_filename, frame)\n",
    "\n",
    "    print(f\"Frame {frame_count} saved as {frame_filename}\")\n",
    "    frame_count += 1\n",
    "\n",
    "    time.sleep(frame_time)\n",
    "\n",
    "    # Exit the loop when 'q' is pressed\n",
    "    if cv2.waitKey(1) & 0xFF == ord('q'):\n",
    "        break\n",
    "\n",
    "# Release the capture and close windows\n",
    "cap.release()\n",
    "cv2.destroyAllWindows()\n"
   ]
  },
  {
   "cell_type": "code",
   "execution_count": 6,
   "metadata": {},
   "outputs": [
    {
     "name": "stdout",
     "output_type": "stream",
     "text": [
      "CPU Cores: 8\n",
      "CPU Frequency: 3204.00 MHz\n",
      "CPU Usage: 13.7%\n"
     ]
    }
   ],
   "source": [
    "import psutil\n",
    "\n",
    "cpu_count = psutil.cpu_count(logical=True)  # Logical cores\n",
    "cpu_freq = psutil.cpu_freq()  # Get CPU frequency\n",
    "cpu_usage = psutil.cpu_percent(interval=1)  # CPU usage over 1 sec\n",
    "\n",
    "print(f\"CPU Cores: {cpu_count}\")\n",
    "print(f\"CPU Frequency: {cpu_freq.max:.2f} MHz\")\n",
    "print(f\"CPU Usage: {cpu_usage}%\")\n"
   ]
  },
  {
   "cell_type": "code",
   "execution_count": 7,
   "metadata": {},
   "outputs": [
    {
     "name": "stdout",
     "output_type": "stream",
     "text": [
      "Total RAM: 8.00 GB\n",
      "Available RAM: 1.32 GB\n",
      "RAM Usage: 83.5%\n"
     ]
    }
   ],
   "source": [
    "ram = psutil.virtual_memory()\n",
    "print(f\"Total RAM: {ram.total / (1024**3):.2f} GB\")\n",
    "print(f\"Available RAM: {ram.available / (1024**3):.2f} GB\")\n",
    "print(f\"RAM Usage: {ram.percent}%\")\n"
   ]
  },
  {
   "cell_type": "code",
   "execution_count": null,
   "metadata": {},
   "outputs": [],
   "source": []
  }
 ],
 "metadata": {
  "kernelspec": {
   "display_name": "Python 3",
   "language": "python",
   "name": "python3"
  },
  "language_info": {
   "codemirror_mode": {
    "name": "ipython",
    "version": 3
   },
   "file_extension": ".py",
   "mimetype": "text/x-python",
   "name": "python",
   "nbconvert_exporter": "python",
   "pygments_lexer": "ipython3",
   "version": "3.12.2"
  }
 },
 "nbformat": 4,
 "nbformat_minor": 2
}
